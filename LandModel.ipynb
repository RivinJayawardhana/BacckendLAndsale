{
 "cells": [
  {
   "cell_type": "code",
   "execution_count": 42,
   "id": "af139a4b-6227-4a7d-a064-dc2715a39db3",
   "metadata": {},
   "outputs": [],
   "source": [
    "import pandas as pd\n",
    "import numpy as np\n",
    "from sklearn.model_selection import train_test_split\n",
    "from sklearn.ensemble import RandomForestRegressor\n",
    "from sklearn.metrics import mean_squared_error, r2_score\n",
    "from sklearn.preprocessing import OneHotEncoder, StandardScaler\n",
    "from sklearn.compose import ColumnTransformer\n",
    "from sklearn.pipeline import Pipeline"
   ]
  },
  {
   "cell_type": "code",
   "execution_count": 25,
   "id": "006edd51-cdec-4475-83a7-ca8cb270f2df",
   "metadata": {},
   "outputs": [
    {
     "name": "stdout",
     "output_type": "stream",
     "text": [
      "Requirement already satisfied: openpyxl in /opt/anaconda3/lib/python3.11/site-packages (3.1.5)\n",
      "Requirement already satisfied: et-xmlfile in /opt/anaconda3/lib/python3.11/site-packages (from openpyxl) (1.1.0)\n",
      "\n",
      "\u001b[1m[\u001b[0m\u001b[34;49mnotice\u001b[0m\u001b[1;39;49m]\u001b[0m\u001b[39;49m A new release of pip is available: \u001b[0m\u001b[31;49m24.2\u001b[0m\u001b[39;49m -> \u001b[0m\u001b[32;49m24.3.1\u001b[0m\n",
      "\u001b[1m[\u001b[0m\u001b[34;49mnotice\u001b[0m\u001b[1;39;49m]\u001b[0m\u001b[39;49m To update, run: \u001b[0m\u001b[32;49mpip install --upgrade pip\u001b[0m\n"
     ]
    }
   ],
   "source": [
    "!pip install --upgrade openpyxl\n"
   ]
  },
  {
   "cell_type": "code",
   "execution_count": 59,
   "id": "42d24214-47b7-4a57-bfb0-009c7db8f735",
   "metadata": {},
   "outputs": [],
   "source": [
    "data = pd.read_csv(\"landdata.csv\", delimiter=\";\")\n"
   ]
  },
  {
   "cell_type": "code",
   "execution_count": 60,
   "id": "ce559c20-16b6-4f6e-8bfc-1c5920971be4",
   "metadata": {},
   "outputs": [
    {
     "data": {
      "text/html": [
       "<div>\n",
       "<style scoped>\n",
       "    .dataframe tbody tr th:only-of-type {\n",
       "        vertical-align: middle;\n",
       "    }\n",
       "\n",
       "    .dataframe tbody tr th {\n",
       "        vertical-align: top;\n",
       "    }\n",
       "\n",
       "    .dataframe thead th {\n",
       "        text-align: right;\n",
       "    }\n",
       "</style>\n",
       "<table border=\"1\" class=\"dataframe\">\n",
       "  <thead>\n",
       "    <tr style=\"text-align: right;\">\n",
       "      <th></th>\n",
       "      <th>Type</th>\n",
       "      <th>Name</th>\n",
       "      <th>Address</th>\n",
       "      <th>Place</th>\n",
       "      <th>Current Price (LKR)</th>\n",
       "      <th>2022 Price (LKR)</th>\n",
       "      <th>2021 Price (LKR)</th>\n",
       "      <th>2020 Price (LKR)</th>\n",
       "      <th>Rooms</th>\n",
       "      <th>Bed</th>\n",
       "      <th>...</th>\n",
       "      <th>Carpet Area (sqft)</th>\n",
       "      <th>Age</th>\n",
       "      <th>Total Floors</th>\n",
       "      <th>Room Floor</th>\n",
       "      <th>Furnished</th>\n",
       "      <th>Loan</th>\n",
       "      <th>Description</th>\n",
       "      <th>Saler Name</th>\n",
       "      <th>Email</th>\n",
       "      <th>Phone Number</th>\n",
       "    </tr>\n",
       "  </thead>\n",
       "  <tbody>\n",
       "    <tr>\n",
       "      <th>0</th>\n",
       "      <td>Land</td>\n",
       "      <td>Property 1</td>\n",
       "      <td>43 Example Road</td>\n",
       "      <td>Colombo 3</td>\n",
       "      <td>69993321</td>\n",
       "      <td>99444722</td>\n",
       "      <td>69252390</td>\n",
       "      <td>4030503</td>\n",
       "      <td>2</td>\n",
       "      <td>5</td>\n",
       "      <td>...</td>\n",
       "      <td>4262</td>\n",
       "      <td>49</td>\n",
       "      <td>14</td>\n",
       "      <td>8</td>\n",
       "      <td>Available</td>\n",
       "      <td>Available</td>\n",
       "      <td>Description of property 1</td>\n",
       "      <td>Seller 1</td>\n",
       "      <td>seller1@example.com</td>\n",
       "      <td>744794023</td>\n",
       "    </tr>\n",
       "    <tr>\n",
       "      <th>1</th>\n",
       "      <td>Land</td>\n",
       "      <td>Property 2</td>\n",
       "      <td>50 Example Road</td>\n",
       "      <td>Colombo 3</td>\n",
       "      <td>111314265</td>\n",
       "      <td>81204893</td>\n",
       "      <td>49083023</td>\n",
       "      <td>39997830</td>\n",
       "      <td>6</td>\n",
       "      <td>6</td>\n",
       "      <td>...</td>\n",
       "      <td>4981</td>\n",
       "      <td>9</td>\n",
       "      <td>8</td>\n",
       "      <td>11</td>\n",
       "      <td>Available</td>\n",
       "      <td>Available</td>\n",
       "      <td>Description of property 2</td>\n",
       "      <td>Seller 2</td>\n",
       "      <td>seller2@example.com</td>\n",
       "      <td>748373808</td>\n",
       "    </tr>\n",
       "    <tr>\n",
       "      <th>2</th>\n",
       "      <td>Apartment</td>\n",
       "      <td>Property 3</td>\n",
       "      <td>13 Example Road</td>\n",
       "      <td>Kandy</td>\n",
       "      <td>139223012</td>\n",
       "      <td>148862668</td>\n",
       "      <td>106877747</td>\n",
       "      <td>69042918</td>\n",
       "      <td>9</td>\n",
       "      <td>8</td>\n",
       "      <td>...</td>\n",
       "      <td>2285</td>\n",
       "      <td>46</td>\n",
       "      <td>6</td>\n",
       "      <td>17</td>\n",
       "      <td>Semi</td>\n",
       "      <td>Not Available</td>\n",
       "      <td>Description of property 3</td>\n",
       "      <td>Seller 3</td>\n",
       "      <td>seller3@example.com</td>\n",
       "      <td>798384435</td>\n",
       "    </tr>\n",
       "    <tr>\n",
       "      <th>3</th>\n",
       "      <td>House</td>\n",
       "      <td>Property 4</td>\n",
       "      <td>24 Example Road</td>\n",
       "      <td>Kandy</td>\n",
       "      <td>187318480</td>\n",
       "      <td>151255060</td>\n",
       "      <td>150013425</td>\n",
       "      <td>30570354</td>\n",
       "      <td>10</td>\n",
       "      <td>7</td>\n",
       "      <td>...</td>\n",
       "      <td>3717</td>\n",
       "      <td>25</td>\n",
       "      <td>2</td>\n",
       "      <td>10</td>\n",
       "      <td>Available</td>\n",
       "      <td>Available</td>\n",
       "      <td>Description of property 4</td>\n",
       "      <td>Seller 4</td>\n",
       "      <td>seller4@example.com</td>\n",
       "      <td>752935647</td>\n",
       "    </tr>\n",
       "    <tr>\n",
       "      <th>4</th>\n",
       "      <td>House</td>\n",
       "      <td>Property 5</td>\n",
       "      <td>10 Example Road</td>\n",
       "      <td>Kandy</td>\n",
       "      <td>184084762</td>\n",
       "      <td>115986880</td>\n",
       "      <td>14564604</td>\n",
       "      <td>83027210</td>\n",
       "      <td>6</td>\n",
       "      <td>6</td>\n",
       "      <td>...</td>\n",
       "      <td>4551</td>\n",
       "      <td>30</td>\n",
       "      <td>10</td>\n",
       "      <td>14</td>\n",
       "      <td>Semi</td>\n",
       "      <td>Available</td>\n",
       "      <td>Description of property 5</td>\n",
       "      <td>Seller 5</td>\n",
       "      <td>seller5@example.com</td>\n",
       "      <td>716203409</td>\n",
       "    </tr>\n",
       "  </tbody>\n",
       "</table>\n",
       "<p>5 rows × 25 columns</p>\n",
       "</div>"
      ],
      "text/plain": [
       "        Type        Name          Address      Place  Current Price (LKR)  \\\n",
       "0       Land  Property 1  43 Example Road  Colombo 3             69993321   \n",
       "1       Land  Property 2  50 Example Road  Colombo 3            111314265   \n",
       "2  Apartment  Property 3  13 Example Road      Kandy            139223012   \n",
       "3      House  Property 4  24 Example Road      Kandy            187318480   \n",
       "4      House  Property 5  10 Example Road      Kandy            184084762   \n",
       "\n",
       "   2022 Price (LKR)  2021 Price (LKR)  2020 Price (LKR)  Rooms  Bed  ...  \\\n",
       "0          99444722          69252390           4030503      2    5  ...   \n",
       "1          81204893          49083023          39997830      6    6  ...   \n",
       "2         148862668         106877747          69042918      9    8  ...   \n",
       "3         151255060         150013425          30570354     10    7  ...   \n",
       "4         115986880          14564604          83027210      6    6  ...   \n",
       "\n",
       "   Carpet Area (sqft) Age  Total Floors  Room Floor  Furnished           Loan  \\\n",
       "0                4262  49            14           8  Available      Available   \n",
       "1                4981   9             8          11  Available      Available   \n",
       "2                2285  46             6          17       Semi  Not Available   \n",
       "3                3717  25             2          10  Available      Available   \n",
       "4                4551  30            10          14       Semi      Available   \n",
       "\n",
       "                 Description  Saler Name                Email Phone Number  \n",
       "0  Description of property 1    Seller 1  seller1@example.com    744794023  \n",
       "1  Description of property 2    Seller 2  seller2@example.com    748373808  \n",
       "2  Description of property 3    Seller 3  seller3@example.com    798384435  \n",
       "3  Description of property 4    Seller 4  seller4@example.com    752935647  \n",
       "4  Description of property 5    Seller 5  seller5@example.com    716203409  \n",
       "\n",
       "[5 rows x 25 columns]"
      ]
     },
     "execution_count": 60,
     "metadata": {},
     "output_type": "execute_result"
    }
   ],
   "source": [
    "data.head()\n"
   ]
  },
  {
   "cell_type": "code",
   "execution_count": 61,
   "id": "0278c6d1-6ba9-4a7f-bc12-9ec24029df23",
   "metadata": {},
   "outputs": [],
   "source": [
    "data = data.drop(['Name', 'Address', 'Description', 'Email','Saler Name','Phone Number'], axis=1)"
   ]
  },
  {
   "cell_type": "code",
   "execution_count": 62,
   "id": "dc3e163e-a038-4e7c-ab12-b03cf47fca78",
   "metadata": {},
   "outputs": [
    {
     "data": {
      "text/html": [
       "<div>\n",
       "<style scoped>\n",
       "    .dataframe tbody tr th:only-of-type {\n",
       "        vertical-align: middle;\n",
       "    }\n",
       "\n",
       "    .dataframe tbody tr th {\n",
       "        vertical-align: top;\n",
       "    }\n",
       "\n",
       "    .dataframe thead th {\n",
       "        text-align: right;\n",
       "    }\n",
       "</style>\n",
       "<table border=\"1\" class=\"dataframe\">\n",
       "  <thead>\n",
       "    <tr style=\"text-align: right;\">\n",
       "      <th></th>\n",
       "      <th>Type</th>\n",
       "      <th>Place</th>\n",
       "      <th>Current Price (LKR)</th>\n",
       "      <th>2022 Price (LKR)</th>\n",
       "      <th>2021 Price (LKR)</th>\n",
       "      <th>2020 Price (LKR)</th>\n",
       "      <th>Rooms</th>\n",
       "      <th>Bed</th>\n",
       "      <th>Deposit Amount (LKR)</th>\n",
       "      <th>Status</th>\n",
       "      <th>Bedroom</th>\n",
       "      <th>Bathroom</th>\n",
       "      <th>Balcony</th>\n",
       "      <th>Carpet Area (sqft)</th>\n",
       "      <th>Age</th>\n",
       "      <th>Total Floors</th>\n",
       "      <th>Room Floor</th>\n",
       "      <th>Furnished</th>\n",
       "      <th>Loan</th>\n",
       "    </tr>\n",
       "  </thead>\n",
       "  <tbody>\n",
       "    <tr>\n",
       "      <th>0</th>\n",
       "      <td>Land</td>\n",
       "      <td>Colombo 3</td>\n",
       "      <td>69993321</td>\n",
       "      <td>99444722</td>\n",
       "      <td>69252390</td>\n",
       "      <td>4030503</td>\n",
       "      <td>2</td>\n",
       "      <td>5</td>\n",
       "      <td>8130300</td>\n",
       "      <td>Sold</td>\n",
       "      <td>8</td>\n",
       "      <td>3</td>\n",
       "      <td>Yes</td>\n",
       "      <td>4262</td>\n",
       "      <td>49</td>\n",
       "      <td>14</td>\n",
       "      <td>8</td>\n",
       "      <td>Available</td>\n",
       "      <td>Available</td>\n",
       "    </tr>\n",
       "    <tr>\n",
       "      <th>1</th>\n",
       "      <td>Land</td>\n",
       "      <td>Colombo 3</td>\n",
       "      <td>111314265</td>\n",
       "      <td>81204893</td>\n",
       "      <td>49083023</td>\n",
       "      <td>39997830</td>\n",
       "      <td>6</td>\n",
       "      <td>6</td>\n",
       "      <td>4029412</td>\n",
       "      <td>Sold</td>\n",
       "      <td>5</td>\n",
       "      <td>4</td>\n",
       "      <td>Yes</td>\n",
       "      <td>4981</td>\n",
       "      <td>9</td>\n",
       "      <td>8</td>\n",
       "      <td>11</td>\n",
       "      <td>Available</td>\n",
       "      <td>Available</td>\n",
       "    </tr>\n",
       "    <tr>\n",
       "      <th>2</th>\n",
       "      <td>Apartment</td>\n",
       "      <td>Kandy</td>\n",
       "      <td>139223012</td>\n",
       "      <td>148862668</td>\n",
       "      <td>106877747</td>\n",
       "      <td>69042918</td>\n",
       "      <td>9</td>\n",
       "      <td>8</td>\n",
       "      <td>679693</td>\n",
       "      <td>Available</td>\n",
       "      <td>3</td>\n",
       "      <td>8</td>\n",
       "      <td>No</td>\n",
       "      <td>2285</td>\n",
       "      <td>46</td>\n",
       "      <td>6</td>\n",
       "      <td>17</td>\n",
       "      <td>Semi</td>\n",
       "      <td>Not Available</td>\n",
       "    </tr>\n",
       "    <tr>\n",
       "      <th>3</th>\n",
       "      <td>House</td>\n",
       "      <td>Kandy</td>\n",
       "      <td>187318480</td>\n",
       "      <td>151255060</td>\n",
       "      <td>150013425</td>\n",
       "      <td>30570354</td>\n",
       "      <td>10</td>\n",
       "      <td>7</td>\n",
       "      <td>8138009</td>\n",
       "      <td>Available</td>\n",
       "      <td>9</td>\n",
       "      <td>6</td>\n",
       "      <td>Yes</td>\n",
       "      <td>3717</td>\n",
       "      <td>25</td>\n",
       "      <td>2</td>\n",
       "      <td>10</td>\n",
       "      <td>Available</td>\n",
       "      <td>Available</td>\n",
       "    </tr>\n",
       "    <tr>\n",
       "      <th>4</th>\n",
       "      <td>House</td>\n",
       "      <td>Kandy</td>\n",
       "      <td>184084762</td>\n",
       "      <td>115986880</td>\n",
       "      <td>14564604</td>\n",
       "      <td>83027210</td>\n",
       "      <td>6</td>\n",
       "      <td>6</td>\n",
       "      <td>1879876</td>\n",
       "      <td>Available</td>\n",
       "      <td>3</td>\n",
       "      <td>7</td>\n",
       "      <td>Yes</td>\n",
       "      <td>4551</td>\n",
       "      <td>30</td>\n",
       "      <td>10</td>\n",
       "      <td>14</td>\n",
       "      <td>Semi</td>\n",
       "      <td>Available</td>\n",
       "    </tr>\n",
       "  </tbody>\n",
       "</table>\n",
       "</div>"
      ],
      "text/plain": [
       "        Type      Place  Current Price (LKR)  2022 Price (LKR)  \\\n",
       "0       Land  Colombo 3             69993321          99444722   \n",
       "1       Land  Colombo 3            111314265          81204893   \n",
       "2  Apartment      Kandy            139223012         148862668   \n",
       "3      House      Kandy            187318480         151255060   \n",
       "4      House      Kandy            184084762         115986880   \n",
       "\n",
       "   2021 Price (LKR)  2020 Price (LKR)  Rooms  Bed  Deposit Amount (LKR)  \\\n",
       "0          69252390           4030503      2    5               8130300   \n",
       "1          49083023          39997830      6    6               4029412   \n",
       "2         106877747          69042918      9    8                679693   \n",
       "3         150013425          30570354     10    7               8138009   \n",
       "4          14564604          83027210      6    6               1879876   \n",
       "\n",
       "      Status  Bedroom  Bathroom Balcony  Carpet Area (sqft)  Age  \\\n",
       "0       Sold        8         3     Yes                4262   49   \n",
       "1       Sold        5         4     Yes                4981    9   \n",
       "2  Available        3         8      No                2285   46   \n",
       "3  Available        9         6     Yes                3717   25   \n",
       "4  Available        3         7     Yes                4551   30   \n",
       "\n",
       "   Total Floors  Room Floor  Furnished           Loan  \n",
       "0            14           8  Available      Available  \n",
       "1             8          11  Available      Available  \n",
       "2             6          17       Semi  Not Available  \n",
       "3             2          10  Available      Available  \n",
       "4            10          14       Semi      Available  "
      ]
     },
     "execution_count": 62,
     "metadata": {},
     "output_type": "execute_result"
    }
   ],
   "source": [
    "data.head()"
   ]
  },
  {
   "cell_type": "code",
   "execution_count": 64,
   "id": "cb49f636-c4d4-46eb-a3e5-607c23753c40",
   "metadata": {},
   "outputs": [
    {
     "data": {
      "text/plain": [
       "Type                    0\n",
       "Place                   0\n",
       "Current Price (LKR)     0\n",
       "2022 Price (LKR)        0\n",
       "2021 Price (LKR)        0\n",
       "2020 Price (LKR)        0\n",
       "Rooms                   0\n",
       "Bed                     0\n",
       "Deposit Amount (LKR)    0\n",
       "Status                  0\n",
       "Bedroom                 0\n",
       "Bathroom                0\n",
       "Balcony                 0\n",
       "Carpet Area (sqft)      0\n",
       "Age                     0\n",
       "Total Floors            0\n",
       "Room Floor              0\n",
       "Furnished               0\n",
       "Loan                    0\n",
       "dtype: int64"
      ]
     },
     "execution_count": 64,
     "metadata": {},
     "output_type": "execute_result"
    }
   ],
   "source": [
    "data.isnull().sum()"
   ]
  },
  {
   "cell_type": "code",
   "execution_count": 71,
   "id": "e70b6f69-663b-4e0a-b2bb-f3fdf7f48b82",
   "metadata": {},
   "outputs": [],
   "source": [
    "X = data.drop('Current Price (LKR)', axis=1)\n",
    "y = data['Current Price (LKR)']"
   ]
  },
  {
   "cell_type": "code",
   "execution_count": 72,
   "id": "88d38a1f-33da-4364-9923-feafd0d1faa2",
   "metadata": {},
   "outputs": [],
   "source": [
    "categorical_features = ['Type', 'Place', 'Status', 'Balcony', 'Furnished','Loan']\n",
    "numerical_features = ['2022 Price (LKR)', '2021 Price (LKR)', '2020 Price (LKR)', 'Rooms', 'Bed', \n",
    "                      'Deposit Amount (LKR)', 'Bedroom', 'Bathroom','Carpet Area (sqft)','Age','Total Floors','Room Floor']"
   ]
  },
  {
   "cell_type": "code",
   "execution_count": 73,
   "id": "030ee329-24cf-4ce1-8d5e-09549a0be155",
   "metadata": {},
   "outputs": [],
   "source": [
    "X_train, X_test, y_train, y_test = train_test_split(X, y, test_size=0.2, random_state=42)"
   ]
  },
  {
   "cell_type": "code",
   "execution_count": 74,
   "id": "2c20d100-6b74-486e-9f37-175ef84f2d22",
   "metadata": {},
   "outputs": [],
   "source": [
    "import pandas as pd\n",
    "import numpy as np\n",
    "from sklearn.model_selection import train_test_split\n",
    "from sklearn.ensemble import RandomForestRegressor\n",
    "from sklearn.metrics import mean_squared_error, r2_score,accuracy_score\n",
    "from sklearn.preprocessing import OneHotEncoder, StandardScaler\n",
    "from sklearn.compose import ColumnTransformer\n",
    "from sklearn.pipeline import Pipeline"
   ]
  },
  {
   "cell_type": "code",
   "execution_count": 75,
   "id": "940e7eb8-637f-4ea1-88fc-6c779d408c40",
   "metadata": {},
   "outputs": [
    {
     "name": "stderr",
     "output_type": "stream",
     "text": [
      "/opt/anaconda3/lib/python3.11/site-packages/sklearn/preprocessing/_encoders.py:868: FutureWarning: `sparse` was renamed to `sparse_output` in version 1.2 and will be removed in 1.4. `sparse_output` is ignored unless you leave `sparse` to its default value.\n",
      "  warnings.warn(\n"
     ]
    }
   ],
   "source": [
    "import numpy as np\n",
    "scaler = StandardScaler()\n",
    "X_train_num_scaled = scaler.fit_transform(X_train[numerical_features])\n",
    "X_test_num_scaled = scaler.transform(X_test[numerical_features])\n",
    "\n",
    "encoder = OneHotEncoder(handle_unknown='ignore', sparse=False)\n",
    "X_train_cat_encoded = encoder.fit_transform(X_train[categorical_features])\n",
    "X_test_cat_encoded = encoder.transform(X_test[categorical_features])\n",
    "\n",
    "X_train_transformed = np.hstack([X_train_num_scaled, X_train_cat_encoded])\n",
    "X_test_transformed = np.hstack([X_test_num_scaled, X_test_cat_encoded])"
   ]
  },
  {
   "cell_type": "code",
   "execution_count": 76,
   "id": "8e1c1b10-aca3-492a-9240-52842481f37e",
   "metadata": {},
   "outputs": [
    {
     "name": "stdout",
     "output_type": "stream",
     "text": [
      "Training RMSE: 20453896.6146\n",
      "Training R-squared: 0.8575\n",
      "Test RMSE: 63518037.9358\n",
      "Test R-squared: -0.1825\n"
     ]
    }
   ],
   "source": [
    "from sklearn.preprocessing import StandardScaler, OneHotEncoder\n",
    "from sklearn.compose import ColumnTransformer\n",
    "from sklearn.ensemble import RandomForestRegressor\n",
    "from sklearn.model_selection import train_test_split, cross_val_score\n",
    "from sklearn.metrics import mean_squared_error, r2_score\n",
    "import numpy as np\n",
    "\n",
    "\n",
    "#  RandomForest model\n",
    "Rmodel = RandomForestRegressor(n_estimators=100, random_state=42)\n",
    "Rmodel.fit(X_train_transformed, y_train)\n",
    "\n",
    "\n",
    "y_train_pred = Rmodel.predict(X_train_transformed)\n",
    "y_test_pred = Rmodel.predict(X_test_transformed)\n",
    "\n",
    "# Evaluate the model on training and test sets\n",
    "train_rmse = np.sqrt(mean_squared_error(y_train, y_train_pred))\n",
    "test_rmse = np.sqrt(mean_squared_error(y_test, y_test_pred))\n",
    "train_r2 = r2_score(y_train, y_train_pred)\n",
    "test_r2 = r2_score(y_test, y_test_pred)\n",
    "\n",
    "print(f\"Training RMSE: {train_rmse:.4f}\")\n",
    "print(f\"Training R-squared: {train_r2:.4f}\")\n",
    "print(f\"Test RMSE: {test_rmse:.4f}\")\n",
    "print(f\"Test R-squared: {test_r2:.4f}\")"
   ]
  },
  {
   "cell_type": "code",
   "execution_count": 79,
   "id": "6df74f56-513f-489f-8827-469b4ec62037",
   "metadata": {},
   "outputs": [],
   "source": [
    "from sklearn.compose import ColumnTransformer\n",
    "from sklearn.preprocessing import StandardScaler, OneHotEncoder\n",
    "from sklearn.pipeline import Pipeline\n",
    "\n",
    "# Define the preprocessor\n",
    "preprocessor = ColumnTransformer(\n",
    "    transformers=[\n",
    "        ('num', StandardScaler(), numerical_features), \n",
    "        ('cat', OneHotEncoder(handle_unknown='ignore'), categorical_features)  \n",
    "    ])"
   ]
  },
  {
   "cell_type": "code",
   "execution_count": 81,
   "id": "382171e9-8218-4a6c-86c6-82ad71bdc75c",
   "metadata": {},
   "outputs": [],
   "source": [
    "# Fit the preprocessor and transform the data\n",
    "X_train_transformed = preprocessor.fit_transform(X_train)\n",
    "X_test_transformed = preprocessor.transform(X_test)"
   ]
  },
  {
   "cell_type": "code",
   "execution_count": 88,
   "id": "a5c79deb-377b-4df3-8424-92196eaa5893",
   "metadata": {},
   "outputs": [
    {
     "ename": "AttributeError",
     "evalue": "'numpy.ndarray' object has no attribute 'head'",
     "output_type": "error",
     "traceback": [
      "\u001b[0;31m---------------------------------------------------------------------------\u001b[0m",
      "\u001b[0;31mAttributeError\u001b[0m                            Traceback (most recent call last)",
      "Cell \u001b[0;32mIn[88], line 26\u001b[0m\n\u001b[1;32m     24\u001b[0m new_data_df \u001b[38;5;241m=\u001b[39m pd\u001b[38;5;241m.\u001b[39mDataFrame(future_data)\n\u001b[1;32m     25\u001b[0m new_data_processed \u001b[38;5;241m=\u001b[39m preprocessor\u001b[38;5;241m.\u001b[39mtransform(new_data_df)\n\u001b[0;32m---> 26\u001b[0m new_data_processed\u001b[38;5;241m.\u001b[39mhead()\n",
      "\u001b[0;31mAttributeError\u001b[0m: 'numpy.ndarray' object has no attribute 'head'"
     ]
    }
   ],
   "source": [
    "import pandas as pd\n",
    "\n",
    "# Example future data (replace these values with your actual data)\n",
    "future_data = {\n",
    "    'Type': ['Land'],  # Replace with actual values for prediction\n",
    "    'Place': ['Colombo 3'],  # Replace with actual place\n",
    "    'Status': ['Available'],  # Replace with the status (Available or Sold)\n",
    "    'Balcony': ['Yes'],  # Yes or No for Balcony\n",
    "    'Furnished': ['Yes'],  # Yes, Semi, or No\n",
    "    'Loan': ['Available'],  # Available or Not Available\n",
    "    '2022 Price (LKR)': [99999321],  # Example values for the 2022 price\n",
    "    '2021 Price (LKR)': [148862668],  # Example values for the 2021 price\n",
    "    '2020 Price (LKR)': [106877747],  # Example values for the 2020 price\n",
    "    'Rooms': [2],  # Example room counts\n",
    "    'Bed': [8],  # Example bed counts\n",
    "    'Deposit Amount (LKR)': [8130300],  # Example deposit amounts\n",
    "    'Bedroom': [8],  # Example bedroom counts\n",
    "    'Bathroom': [3],  # Example bathroom counts\n",
    "    'Carpet Area (sqft)': [4262],  # Example carpet area in sqft\n",
    "    'Age': [49],  # Example age of the property\n",
    "    'Total Floors': [14],  # Example total floors\n",
    "    'Room Floor': [8]  # Example room floor count\n",
    "}\n",
    "new_data_df = pd.DataFrame(future_data)\n",
    "new_data_processed = preprocessor.transform(new_data_df)"
   ]
  },
  {
   "cell_type": "code",
   "execution_count": 89,
   "id": "41f5e843-3491-453c-8235-cf5091b207c3",
   "metadata": {},
   "outputs": [
    {
     "name": "stdout",
     "output_type": "stream",
     "text": [
      "Predicted Price: 96,788,695.98\n"
     ]
    }
   ],
   "source": [
    "predicted_price = Rmodel.predict(new_data_processed)\n",
    "\n",
    "print(f\"Predicted Price: {predicted_price[0]:,.2f}\")"
   ]
  },
  {
   "cell_type": "code",
   "execution_count": 97,
   "id": "a0c49e08-b709-450b-b33b-0a5d311dc9a7",
   "metadata": {},
   "outputs": [],
   "source": [
    "\n",
    "# Example future data (replace these values with your actual data)\n",
    "future_data2 = {\n",
    "    'Type': ['Land'],  # Replace with actual values for prediction\n",
    "    'Place': ['Colombo 3'],  # Replace with actual place\n",
    "    'Status': ['Available'],  # Replace with the status (Available or Sold)\n",
    "    'Balcony': ['Yes'],  # Yes or No for Balcony\n",
    "    'Furnished': ['Yes'],  # Yes, Semi, or No\n",
    "    'Loan': ['Available'],  # Available or Not Available\n",
    "    '2022 Price (LKR)': [148862668],  # Example values for the 2022 price\n",
    "    '2021 Price (LKR)': [106877747],  # Example values for the 2021 price\n",
    "    '2020 Price (LKR)': predicted_price,  # Example values for the 2020 price\n",
    "    'Rooms': [2],  # Example room counts\n",
    "    'Bed': [8],  # Example bed counts\n",
    "    'Deposit Amount (LKR)': [8130300],  # Example deposit amounts\n",
    "    'Bedroom': [8],  # Example bedroom counts\n",
    "    'Bathroom': [3],  # Example bathroom counts\n",
    "    'Carpet Area (sqft)': [4262],  # Example carpet area in sqft\n",
    "    'Age': [49],  # Example age of the property\n",
    "    'Total Floors': [14],  # Example total floors\n",
    "    'Room Floor': [8]  # Example room floor count\n",
    "}\n",
    "new_data_df2 = pd.DataFrame(future_data2)\n",
    "new_data_processed2 = preprocessor.transform(new_data_df2)"
   ]
  },
  {
   "cell_type": "code",
   "execution_count": 98,
   "id": "693eb29f-97ec-4b6e-a72b-5de91690f6a8",
   "metadata": {},
   "outputs": [
    {
     "name": "stdout",
     "output_type": "stream",
     "text": [
      "Predicted Price: 100,388,506.18\n"
     ]
    }
   ],
   "source": [
    "predicted_price2 = Rmodel.predict(new_data_processed2)\n",
    "\n",
    "print(f\"Predicted Price: {predicted_price2[0]:,.2f}\")"
   ]
  },
  {
   "cell_type": "code",
   "execution_count": 99,
   "id": "799ccdd7-6e82-4a5d-b561-d50efcab8161",
   "metadata": {},
   "outputs": [],
   "source": [
    "# Example future data (replace these values with your actual data)\n",
    "future_data3 = {\n",
    "    'Type': ['Land'],  # Replace with actual values for prediction\n",
    "    'Place': ['Colombo 3'],  # Replace with actual place\n",
    "    'Status': ['Available'],  # Replace with the status (Available or Sold)\n",
    "    'Balcony': ['Yes'],  # Yes or No for Balcony\n",
    "    'Furnished': ['Yes'],  # Yes, Semi, or No\n",
    "    'Loan': ['Available'],  # Available or Not Available\n",
    "    '2022 Price (LKR)': [148862668],  # Example values for the 2022 price\n",
    "    '2021 Price (LKR)': predicted_price,  # Example values for the 2021 price\n",
    "    '2020 Price (LKR)': predicted_price2,  # Example values for the 2020 price\n",
    "    'Rooms': [2],  # Example room counts\n",
    "    'Bed': [8],  # Example bed counts\n",
    "    'Deposit Amount (LKR)': [8130300],  # Example deposit amounts\n",
    "    'Bedroom': [8],  # Example bedroom counts\n",
    "    'Bathroom': [3],  # Example bathroom counts\n",
    "    'Carpet Area (sqft)': [4262],  # Example carpet area in sqft\n",
    "    'Age': [49],  # Example age of the property\n",
    "    'Total Floors': [14],  # Example total floors\n",
    "    'Room Floor': [8]  # Example room floor count\n",
    "}\n",
    "new_data_df3 = pd.DataFrame(future_data3)\n",
    "new_data_processed3 = preprocessor.transform(new_data_df3)"
   ]
  },
  {
   "cell_type": "code",
   "execution_count": 100,
   "id": "35543e2f-380d-4f6d-a4d7-b19887408dcb",
   "metadata": {},
   "outputs": [
    {
     "name": "stdout",
     "output_type": "stream",
     "text": [
      "Predicted Price: 99,547,646.73\n"
     ]
    }
   ],
   "source": [
    "predicted_price3 = Rmodel.predict(new_data_processed3)\n",
    "\n",
    "print(f\"Predicted Price: {predicted_price3[0]:,.2f}\")"
   ]
  },
  {
   "cell_type": "code",
   "execution_count": 102,
   "id": "5feccb8a-cdda-431a-9c36-f6a987855a0e",
   "metadata": {},
   "outputs": [
    {
     "data": {
      "text/plain": [
       "['preprocessor.pkl']"
      ]
     },
     "execution_count": 102,
     "metadata": {},
     "output_type": "execute_result"
    }
   ],
   "source": [
    "import joblib\n",
    "\n",
    "joblib.dump(Rmodel, 'house_price_model.pkl')\n",
    "joblib.dump(preprocessor, 'preprocessor.pkl')"
   ]
  },
  {
   "cell_type": "code",
   "execution_count": null,
   "id": "ba141cc8-d844-49c5-b183-cfcec92f3340",
   "metadata": {},
   "outputs": [],
   "source": []
  }
 ],
 "metadata": {
  "kernelspec": {
   "display_name": "Python 3 (ipykernel)",
   "language": "python",
   "name": "python3"
  },
  "language_info": {
   "codemirror_mode": {
    "name": "ipython",
    "version": 3
   },
   "file_extension": ".py",
   "mimetype": "text/x-python",
   "name": "python",
   "nbconvert_exporter": "python",
   "pygments_lexer": "ipython3",
   "version": "3.11.7"
  }
 },
 "nbformat": 4,
 "nbformat_minor": 5
}
