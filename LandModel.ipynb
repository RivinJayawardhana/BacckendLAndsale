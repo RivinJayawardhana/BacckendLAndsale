{
 "cells": [
  {
   "cell_type": "code",
   "execution_count": 1,
   "id": "af139a4b-6227-4a7d-a064-dc2715a39db3",
   "metadata": {},
   "outputs": [],
   "source": [
    "import pandas as pd\n",
    "import numpy as np\n",
    "from sklearn.model_selection import train_test_split\n",
    "from sklearn.ensemble import RandomForestRegressor\n",
    "from sklearn.metrics import mean_squared_error, r2_score\n",
    "from sklearn.preprocessing import OneHotEncoder, StandardScaler\n",
    "from sklearn.compose import ColumnTransformer\n",
    "from sklearn.pipeline import Pipeline"
   ]
  },
  {
   "cell_type": "code",
   "execution_count": 2,
   "id": "42d24214-47b7-4a57-bfb0-009c7db8f735",
   "metadata": {},
   "outputs": [],
   "source": [
    "data=pd.read_csv(\"landdata.csv\")"
   ]
  },
  {
   "cell_type": "code",
   "execution_count": 4,
   "id": "006edd51-cdec-4475-83a7-ca8cb270f2df",
   "metadata": {},
   "outputs": [
    {
     "data": {
      "text/html": [
       "<div>\n",
       "<style scoped>\n",
       "    .dataframe tbody tr th:only-of-type {\n",
       "        vertical-align: middle;\n",
       "    }\n",
       "\n",
       "    .dataframe tbody tr th {\n",
       "        vertical-align: top;\n",
       "    }\n",
       "\n",
       "    .dataframe thead th {\n",
       "        text-align: right;\n",
       "    }\n",
       "</style>\n",
       "<table border=\"1\" class=\"dataframe\">\n",
       "  <thead>\n",
       "    <tr style=\"text-align: right;\">\n",
       "      <th></th>\n",
       "      <th>Type;Name;Address;Place;Current Price (LKR);2022 Price (LKR);2021 Price (LKR);2020 Price (LKR);Rooms;Bed;Deposit Amount (LKR);Status;Bedroom;Bathroom;Balcony;Carpet Area (sqft);Age;Total Floors;Room Floor;Furnished;Loan;Description;Saler Name;Email;Phone Number</th>\n",
       "    </tr>\n",
       "  </thead>\n",
       "  <tbody>\n",
       "    <tr>\n",
       "      <th>0</th>\n",
       "      <td>Land;Property 1;43 Example Road;Colombo 3;6999...</td>\n",
       "    </tr>\n",
       "    <tr>\n",
       "      <th>1</th>\n",
       "      <td>Land;Property 2;50 Example Road;Colombo 3;1113...</td>\n",
       "    </tr>\n",
       "    <tr>\n",
       "      <th>2</th>\n",
       "      <td>Apartment;Property 3;13 Example Road;Kandy;139...</td>\n",
       "    </tr>\n",
       "    <tr>\n",
       "      <th>3</th>\n",
       "      <td>House;Property 4;24 Example Road;Kandy;1873184...</td>\n",
       "    </tr>\n",
       "    <tr>\n",
       "      <th>4</th>\n",
       "      <td>House;Property 5;10 Example Road;Kandy;1840847...</td>\n",
       "    </tr>\n",
       "  </tbody>\n",
       "</table>\n",
       "</div>"
      ],
      "text/plain": [
       "  Type;Name;Address;Place;Current Price (LKR);2022 Price (LKR);2021 Price (LKR);2020 Price (LKR);Rooms;Bed;Deposit Amount (LKR);Status;Bedroom;Bathroom;Balcony;Carpet Area (sqft);Age;Total Floors;Room Floor;Furnished;Loan;Description;Saler Name;Email;Phone Number\n",
       "0  Land;Property 1;43 Example Road;Colombo 3;6999...                                                                                                                                                                                                                   \n",
       "1  Land;Property 2;50 Example Road;Colombo 3;1113...                                                                                                                                                                                                                   \n",
       "2  Apartment;Property 3;13 Example Road;Kandy;139...                                                                                                                                                                                                                   \n",
       "3  House;Property 4;24 Example Road;Kandy;1873184...                                                                                                                                                                                                                   \n",
       "4  House;Property 5;10 Example Road;Kandy;1840847...                                                                                                                                                                                                                   "
      ]
     },
     "execution_count": 4,
     "metadata": {},
     "output_type": "execute_result"
    }
   ],
   "source": [
    "data.head()"
   ]
  },
  {
   "cell_type": "code",
   "execution_count": null,
   "id": "ce559c20-16b6-4f6e-8bfc-1c5920971be4",
   "metadata": {},
   "outputs": [],
   "source": []
  }
 ],
 "metadata": {
  "kernelspec": {
   "display_name": "Python 3 (ipykernel)",
   "language": "python",
   "name": "python3"
  },
  "language_info": {
   "codemirror_mode": {
    "name": "ipython",
    "version": 3
   },
   "file_extension": ".py",
   "mimetype": "text/x-python",
   "name": "python",
   "nbconvert_exporter": "python",
   "pygments_lexer": "ipython3",
   "version": "3.11.7"
  }
 },
 "nbformat": 4,
 "nbformat_minor": 5
}
